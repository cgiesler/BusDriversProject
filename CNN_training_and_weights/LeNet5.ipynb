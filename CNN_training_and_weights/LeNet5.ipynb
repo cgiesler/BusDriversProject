{
  "nbformat": 4,
  "nbformat_minor": 0,
  "metadata": {
    "colab": {
      "name": "LeNet5.ipynb",
      "version": "0.3.2",
      "provenance": [],
      "collapsed_sections": [],
      "toc_visible": true
    },
    "kernelspec": {
      "name": "python382jvsc74a57bd031f2aee4e71d21fbe5cf8b01ff0e069b9275f58929596ceb00d14d90e3e16cd6",
      "display_name": "Python 3.8.2 64-bit"
    },
    "accelerator": "GPU",
    "metadata": {
      "interpreter": {
        "hash": "31f2aee4e71d21fbe5cf8b01ff0e069b9275f58929596ceb00d14d90e3e16cd6"
      }
    }
  },
  "cells": [
    {
      "cell_type": "markdown",
      "metadata": {
        "id": "QnCdlmZpQhtk",
        "colab_type": "text"
      },
      "source": [
        "# LeNet-5-Quantized\n",
        "\n",
        "In this notebook, i want to demonstrate how i built LeNet-5 in PyTorch and Quantize it for visualization.\n",
        "\n",
        "\n",
        "> Network details in this [Blog post ](https://engmrk.com/lenet-5-a-classic-cnn-architecture/) and architecture view can be found below.\n",
        "\n",
        "\n",
        "![alt text](https://miro.medium.com/max/2625/1*1TI1aGBZ4dybR6__DI9dzA.png)\n"
      ]
    },
    {
      "cell_type": "markdown",
      "metadata": {
        "id": "QqB-nwesTmVa",
        "colab_type": "text"
      },
      "source": [
        "# Requirments\n",
        "\n",
        "\n",
        "*   PyTorch (torch)\n",
        "*   torchvision\n",
        "*   numpy\n",
        "*   pillow (PIL)\n",
        "\n"
      ]
    },
    {
      "cell_type": "code",
      "metadata": {
        "id": "ZHBVTH3UQaIH",
        "colab_type": "code",
        "colab": {}
      },
      "source": [
        "import numpy as np\n",
        "import torch\n",
        "import torch.nn as nn\n",
        "import torch.nn.functional as F\n",
        "import torchvision.transforms as transforms\n",
        "from torch.utils.data import DataLoader\n",
        "from torch.utils.data.sampler import SubsetRandomSampler\n",
        "from torchvision import datasets\n",
        "from PIL import Image\n",
        "\n",
        "# Added by Eddie\n",
        "import sys\n",
        "np.set_printoptions(threshold=sys.maxsize)\n",
        "import torch.quantization\n",
        "import os"
      ],
      "execution_count": 4,
      "outputs": []
    },
    {
      "cell_type": "markdown",
      "metadata": {
        "id": "doQEQDdYULbp",
        "colab_type": "text"
      },
      "source": [
        "# MNIST Dataset\n",
        "\n",
        "We will download the dataset with `torchvision` and add to it some transforms like padding so the size of the input images become 32x32.\n",
        "\n",
        "We then split the data to `train_data` and `test_data` randomly.\n",
        "\n",
        "We make another split in the training data for validation purposes using `SubsetRandomSampler`.\n",
        "\n"
      ]
    },
    {
      "cell_type": "code",
      "metadata": {
        "id": "OIFlfBRBQLs-",
        "colab_type": "code",
        "colab": {}
      },
      "source": [
        "# number of subprocesses to use for data loading\n",
        "num_workers = 0\n",
        "# how many samples per batch to load\n",
        "batch_size = 20\n",
        "#  validation sample\n",
        "valid_sample = 0.2\n",
        "\n",
        "transform = [transforms.Pad(2), transforms.ToTensor()]\n",
        "\n",
        "# choose the training and test datasets\n",
        "train_data = datasets.MNIST(root='data',\n",
        "                            train=True,\n",
        "                            download=True,\n",
        "                            transform=transforms.Compose(transform))\n",
        "test_data = datasets.MNIST(root='data',\n",
        "                           train=False,\n",
        "                           download=True,\n",
        "                           transform=transforms.Compose(transform))\n",
        "\n",
        "# Creating validation sampler\n",
        "num_train = len(train_data)\n",
        "indices = list(range(num_train))\n",
        "np.random.shuffle(indices)\n",
        "split = int(valid_sample * num_train)\n",
        "train_idx, valid_idx = indices[split:], indices[:split]\n",
        "\n",
        "# define sampler for batches\n",
        "trainSampler = SubsetRandomSampler(train_idx)\n",
        "validationSampler = SubsetRandomSampler(valid_idx)\n",
        "\n",
        "# prepare data loaders\n",
        "train_loader = DataLoader(train_data,\n",
        "                          batch_size=batch_size,\n",
        "                          sampler=trainSampler,\n",
        "                          num_workers=num_workers)\n",
        "validation_loader = DataLoader(train_data,\n",
        "                               batch_size=batch_size,\n",
        "                               sampler=validationSampler,\n",
        "                               num_workers=num_workers)\n",
        "test_loader = DataLoader(test_data,\n",
        "                         batch_size=batch_size,\n",
        "                         num_workers=num_workers)\n"
      ],
      "execution_count": 5,
      "outputs": []
    },
    {
      "cell_type": "markdown",
      "metadata": {
        "id": "nsWvjUVPhFiC",
        "colab_type": "text"
      },
      "source": [
        "# LeNet-5 Network\n",
        "\n",
        "We inherited form `nn.Module` to construct the LeNet-5 architecture in two steps\n",
        "\n",
        "\n",
        "1.   initialization of layers in `__init__`\n",
        "2.   connecting layers to build the pipeline of the network in `forward`\n",
        "\n"
      ]
    },
    {
      "cell_type": "code",
      "metadata": {
        "id": "McwMlya_grjs",
        "colab_type": "code",
        "outputId": "5d515160-1580-4c6d-ef57-a6a52c934f8b",
        "colab": {
          "base_uri": "https://localhost:8080/",
          "height": 170
        }
      },
      "source": [
        "class LeNet(nn.Module):\n",
        "    def __init__(self):\n",
        "        super(LeNet, self).__init__()\n",
        "        self.quant = torch.quantization.QuantStub('')\n",
        "        # 32 x 32 x 1\n",
        "        self.conv1 = nn.Conv2d(1, 6, (5, 5), padding=0, stride=1, bias= False)\n",
        "        # 28 x 28 x 6\n",
        "        self.pool1 = nn.MaxPool2d((2, 2), stride=2)\n",
        "        # 14 x 14 x 6\n",
        "        self.conv2 = nn.Conv2d(6, 16, (5, 5), padding=0, stride=1, bias= False)\n",
        "        # 10 x 10 x 16\n",
        "        self.pool2 = nn.MaxPool2d((2, 2), stride=2)\n",
        "        # 5 x 5 x 16\n",
        "        self.conv3 = nn.Conv2d(16, 120, (5, 5), padding=0, stride=1, bias= False)\n",
        "        # 1 x 1 x 120\n",
        "        self.fc1 = nn.Linear(120, 84, bias= False)\n",
        "        self.fc2 = nn.Linear(84, 10, bias= False)\n",
        "        self.dequant = torch.quantization.DeQuantStub()\n",
        "    def forward(self, x):\n",
        "        x = self.quant(x)\n",
        "        x = F.relu(self.conv1(x))\n",
        "        x = self.pool1(x)\n",
        "        x = F.relu(self.conv2(x))\n",
        "        x = self.pool2(x)\n",
        "        x = F.relu(self.conv3(x))\n",
        "        # Choose either view or flatten (as you like)\n",
        "        x = x.view(x.size(0), -1)\n",
        "        # x = torch.flatten(x, start_dim=1)\n",
        "        x = F.relu(self.fc1(x))\n",
        "        x = torch.softmax(self.fc2(x), dim=-1)\n",
        "        x = self.dequant(x)\n",
        "        return x\n",
        "      \n",
        "model = LeNet()\n",
        "\n",
        "print(model)"
      ],
      "execution_count": 6,
      "outputs": [
        {
          "output_type": "stream",
          "name": "stdout",
          "text": [
            "LeNet(\n  (quant): QuantStub()\n  (conv1): Conv2d(1, 6, kernel_size=(5, 5), stride=(1, 1), bias=False)\n  (pool1): MaxPool2d(kernel_size=(2, 2), stride=2, padding=0, dilation=1, ceil_mode=False)\n  (conv2): Conv2d(6, 16, kernel_size=(5, 5), stride=(1, 1), bias=False)\n  (pool2): MaxPool2d(kernel_size=(2, 2), stride=2, padding=0, dilation=1, ceil_mode=False)\n  (conv3): Conv2d(16, 120, kernel_size=(5, 5), stride=(1, 1), bias=False)\n  (fc1): Linear(in_features=120, out_features=84, bias=False)\n  (fc2): Linear(in_features=84, out_features=10, bias=False)\n  (dequant): DeQuantStub()\n)\n"
          ]
        }
      ]
    },
    {
      "cell_type": "markdown",
      "metadata": {
        "id": "RrryNEroiEzb",
        "colab_type": "text"
      },
      "source": [
        "# Configurations\n",
        "\n",
        "Here, we configure the loss function to be `CrossEntropyLoss` and the optimizer to be Stochastic Gradient Descent (`SGD`)."
      ]
    },
    {
      "cell_type": "code",
      "metadata": {
        "id": "JpqlCK-7iD3B",
        "colab_type": "code",
        "colab": {}
      },
      "source": [
        "# specify loss function\n",
        "criterion = nn.CrossEntropyLoss()\n",
        "\n",
        "# specify optimizer\n",
        "optimizer = torch.optim.SGD(model.parameters(), lr=0.01)\n",
        "\n",
        "# Number of epochs\n",
        "n_epochs = 30\n",
        "\n",
        "# classes of MNIST\n",
        "classes = list(range(10))\n"
      ],
      "execution_count": 7,
      "outputs": []
    },
    {
      "cell_type": "markdown",
      "metadata": {
        "id": "bXe1FAJliFd8",
        "colab_type": "text"
      },
      "source": [
        "# Training & Validation\n",
        "\n",
        "We first check if a GPU is available so i can transfer the learning to it then,  we put the model in training mode and after every epoch we put the model to `eval` mode so we check the validataion loss is getting better or not to save it in `model.pt`."
      ]
    },
    {
      "cell_type": "code",
      "metadata": {
        "id": "YRpO8GkahvH2",
        "colab_type": "code",
        "outputId": "753afb4a-ea85-4741-e0c9-990964de77d4",
        "colab": {
          "base_uri": "https://localhost:8080/",
          "height": 833
        }
      },
      "source": [
        "reTrain = False\n",
        "\n",
        "# Choosing the device for training\n",
        "device = torch.device(\"cuda:0\" if torch.cuda.is_available() else \"cpu\")\n",
        "print(\"Training Device: {}\".format(device))\n",
        "\n",
        "model.to(device)\n",
        "\n",
        "valid_loss_min = np.Inf\n",
        "\n",
        "if (reTrain == True):\n",
        "    for epoch in range(n_epochs):\n",
        "\n",
        "        # monitor training loss\n",
        "        train_loss = 0.0\n",
        "        valid_loss = 0.0\n",
        "\n",
        "        ###################\n",
        "        # train the model #\n",
        "        ###################\n",
        "        model.train()  # prep model for training\n",
        "        for data, target in train_loader:\n",
        "            # clear the gradients of all optimized variables\n",
        "            optimizer.zero_grad()\n",
        "            # forward pass: compute predicted outputs by passing inputs to the model\n",
        "            output = model(data.to(device))\n",
        "            # calculate the loss\n",
        "            loss = criterion(output, target.to(device))\n",
        "            # backward pass: compute gradient of the loss with respect to model parameters\n",
        "            loss.backward()\n",
        "            # perform a single optimization step (parameter update)\n",
        "            optimizer.step()\n",
        "            # update running training loss\n",
        "            train_loss += loss.item() * data.size(0)\n",
        "\n",
        "        model.eval()\n",
        "        for data, target in validation_loader:\n",
        "            output = model(data.to(device))\n",
        "            loss = criterion(output, target.to(device))\n",
        "            valid_loss += loss.item() * data.size(0)\n",
        "\n",
        "        # print training statistics\n",
        "        # calculate average loss over an epoch\n",
        "        train_loss = train_loss / len(train_loader.sampler)\n",
        "        valid_loss = valid_loss / len(validation_loader.sampler)\n",
        "\n",
        "        print('Epoch: {} \\tTraining Loss: {:.6f} \\tValidation Loss: {:.6f}'.\n",
        "            format(epoch + 1, train_loss, valid_loss))\n",
        "        if valid_loss <= valid_loss_min:\n",
        "            print(\n",
        "                'Validation loss decreased ({:.6f} --> {:.6f}).  Saving model ...'\n",
        "                .format(valid_loss_min, valid_loss))\n",
        "            torch.save(model.state_dict(), 'model.pt')\n",
        "            valid_loss_min = valid_loss\n",
        "else:\n",
        "    print(\"Loaded model.pt already within the directory\")\n"
      ],
      "execution_count": 8,
      "outputs": [
        {
          "output_type": "stream",
          "name": "stdout",
          "text": [
            "Training Device: cpu\nLoaded model.pt already within the directory\n"
          ]
        }
      ]
    },
    {
      "cell_type": "markdown",
      "metadata": {
        "id": "LsYotXAkrqLm",
        "colab_type": "text"
      },
      "source": [
        "# Testing\n",
        "\n",
        "Going through the testing dataset to get the accuracy of the model."
      ]
    },
    {
      "cell_type": "code",
      "metadata": {
        "id": "xb0m0-sTrO98",
        "colab_type": "code",
        "outputId": "e0f4cdd8-e4f1-4b77-833e-39caa1e92df0",
        "colab": {
          "base_uri": "https://localhost:8080/",
          "height": 272
        }
      },
      "source": [
        "# initialize lists to monitor test loss and accuracy\n",
        "test_loss = 0.0\n",
        "class_correct = list(0. for i in range(10))\n",
        "class_total = list(0. for i in range(10))\n",
        "\n",
        "model = LeNet()\n",
        "model.load_state_dict(torch.load(\"model.pt\"))\n",
        "model.eval()  # prep model for *evaluation*\n",
        "model.qconfig = torch.quantization.get_default_qconfig()\n",
        "\n",
        "# Choosing the device for training\n",
        "device = torch.device(\"cuda:0\" if torch.cuda.is_available() else \"cpu\")\n",
        "print(\"Testing Device: {}\".format(device))\n",
        "\n",
        "model.to(device)\n",
        "\n",
        "# Disabling the gradient calculations for faster inference\n",
        "with torch.no_grad():\n",
        "\n",
        "  for data, target in test_loader:\n",
        "      # forward pass: compute predicted outputs by passing inputs to the model\n",
        "      output = model(data.to(device))\n",
        "      # calculate the loss\n",
        "      loss = criterion(output, target.to(device))\n",
        "      # update test loss\n",
        "      test_loss += loss.item() * data.size(0)\n",
        "      # convert output probabilities to predicted class\n",
        "      _, pred = torch.max(output, 1)\n",
        "      # compare predictions to true label\n",
        "      correct = np.squeeze(pred.eq(target.to(device).data.view_as(pred)))\n",
        "      # calculate test accuracy for each object class\n",
        "      for i in range(batch_size):\n",
        "          label = target.data[i]\n",
        "          class_correct[label] += correct[i].item()\n",
        "          class_total[label] += 1\n",
        "\n",
        "# calculate and print avg test loss\n",
        "test_loss = test_loss / len(test_loader.dataset)\n",
        "print('Test Loss: {:.6f}\\n'.format(test_loss))\n",
        "\n",
        "for i in range(10):\n",
        "    if class_total[i] > 0:\n",
        "        print('Test Accuracy of %5s: %2d%% (%2d/%2d)' %\n",
        "              (str(i), 100 * class_correct[i] / class_total[i],\n",
        "               np.sum(class_correct[i]), np.sum(class_total[i])))\n",
        "    else:\n",
        "        print('Test Accuracy of %5s: N/A (no training examples)' %\n",
        "              (classes[i]))\n",
        "\n",
        "print('\\nTest Accuracy (Overall): %2d%% (%2d/%2d)' %\n",
        "      (100. * np.sum(class_correct) / np.sum(class_total),\n",
        "       np.sum(class_correct), np.sum(class_total)))\n"
      ],
      "execution_count": 9,
      "outputs": [
        {
          "output_type": "stream",
          "name": "stdout",
          "text": [
            "Testing Device: cpu\n",
            "Test Loss: 1.574462\n",
            "\n",
            "Test Accuracy of     0: 99% (972/980)\n",
            "Test Accuracy of     1: 99% (1125/1135)\n",
            "Test Accuracy of     2: 98% (1014/1032)\n",
            "Test Accuracy of     3: 98% (999/1010)\n",
            "Test Accuracy of     4: 98% (971/982)\n",
            "Test Accuracy of     5: 97% (872/892)\n",
            "Test Accuracy of     6: 97% (936/958)\n",
            "Test Accuracy of     7: 97% (998/1028)\n",
            "Test Accuracy of     8: 98% (961/974)\n",
            "Test Accuracy of     9:  0% ( 0/1009)\n",
            "\n",
            "Test Accuracy (Overall): 88% (8848/10000)\n"
          ]
        }
      ]
    },
    {
      "cell_type": "markdown",
      "metadata": {
        "id": "85TJK1qYrq1Y",
        "colab_type": "text"
      },
      "source": [
        "# Quantization\n",
        "\n",
        "We deliver a visual representation to the feature maps generated from the learnt weights."
      ]
    },
    {
      "cell_type": "code",
      "metadata": {
        "id": "fLTM12heroDx",
        "colab_type": "code",
        "outputId": "ded177cb-3129-48aa-c2c7-07223b932ed8",
        "colab": {
          "base_uri": "https://localhost:8080/",
          "height": 204
        }
      },
      "source": [
        "model.qconfig = torch.quantization.get_default_qconfig('fbgemm')\n",
        "torch.quantization.prepare(model, inplace=True)\n",
        "torch.quantization.convert(model, inplace=True)"
      ],
      "execution_count": 10,
      "outputs": [
        {
          "output_type": "stream",
          "name": "stderr",
          "text": [
            "/home/eestevez/.local/lib/python3.8/site-packages/torch/quantization/observer.py:121: UserWarning: Please use quant_min and quant_max to specify the range for observers.                     reduce_range will be deprecated in a future release of PyTorch.\n  warnings.warn(\n/home/eestevez/.local/lib/python3.8/site-packages/torch/quantization/observer.py:955: UserWarning: must run observer before calling calculate_qparams.                                    Returning default scale and zero point \n  warnings.warn(\n"
          ]
        },
        {
          "output_type": "execute_result",
          "data": {
            "text/plain": [
              "LeNet(\n",
              "  (quant): Quantize(scale=tensor([1.]), zero_point=tensor([0]), dtype=torch.quint8)\n",
              "  (conv1): QuantizedConv2d(1, 6, kernel_size=(5, 5), stride=(1, 1), scale=1.0, zero_point=0, bias=False)\n",
              "  (pool1): MaxPool2d(kernel_size=(2, 2), stride=2, padding=0, dilation=1, ceil_mode=False)\n",
              "  (conv2): QuantizedConv2d(6, 16, kernel_size=(5, 5), stride=(1, 1), scale=1.0, zero_point=0, bias=False)\n",
              "  (pool2): MaxPool2d(kernel_size=(2, 2), stride=2, padding=0, dilation=1, ceil_mode=False)\n",
              "  (conv3): QuantizedConv2d(16, 120, kernel_size=(5, 5), stride=(1, 1), scale=1.0, zero_point=0, bias=False)\n",
              "  (fc1): QuantizedLinear(in_features=120, out_features=84, scale=1.0, zero_point=0, qscheme=torch.per_channel_affine)\n",
              "  (fc2): QuantizedLinear(in_features=84, out_features=10, scale=1.0, zero_point=0, qscheme=torch.per_channel_affine)\n",
              "  (dequant): DeQuantize()\n",
              ")"
            ]
          },
          "metadata": {},
          "execution_count": 10
        }
      ]
    },
    {
      "cell_type": "markdown",
      "metadata": {
        "id": "9KiwK32JiZ7Y",
        "colab_type": "text"
      },
      "source": [
        "# Network Analysis\n",
        "We will go through every layer and print its weights (if any) and the feature maps (outputs)."
      ]
    },
    {
      "cell_type": "code",
      "metadata": {
        "id": "ybABDunykxSn",
        "colab_type": "code",
        "outputId": "f9268875-4815-45dd-829f-f72fec762e0a",
        "colab": {
          "base_uri": "https://localhost:8080/",
          "height": 439
        }
      },
      "source": [
        "import matplotlib.pyplot as plt\n",
        "%matplotlib inline\n",
        "\n",
        "# Moving the model back to the CPU\n",
        "model.to(\"cpu\")\n",
        "\n",
        "# parameters of the trained network\n",
        "param = list(model.parameters())\n",
        "for paramater in model.parameters():\n",
        "  print(paramater.shape)\n",
        "  \n",
        "  \n",
        "# Input image for analysis\n",
        "input_img = next(iter(test_loader))[0][0].squeeze(0)\n",
        "plt.imshow(input_img)\n",
        "\n",
        "# Modifying the input image for analysis\n",
        "input_img = input_img.unsqueeze(0).unsqueeze(0)"
      ],
      "execution_count": 11,
      "outputs": [
        {
          "output_type": "display_data",
          "data": {
            "text/plain": "<Figure size 432x288 with 1 Axes>",
            "image/svg+xml": "<?xml version=\"1.0\" encoding=\"utf-8\" standalone=\"no\"?>\n<!DOCTYPE svg PUBLIC \"-//W3C//DTD SVG 1.1//EN\"\n  \"http://www.w3.org/Graphics/SVG/1.1/DTD/svg11.dtd\">\n<!-- Created with matplotlib (https://matplotlib.org/) -->\n<svg height=\"248.919844pt\" version=\"1.1\" viewBox=\"0 0 251.565 248.919844\" width=\"251.565pt\" xmlns=\"http://www.w3.org/2000/svg\" xmlns:xlink=\"http://www.w3.org/1999/xlink\">\n <metadata>\n  <rdf:RDF xmlns:cc=\"http://creativecommons.org/ns#\" xmlns:dc=\"http://purl.org/dc/elements/1.1/\" xmlns:rdf=\"http://www.w3.org/1999/02/22-rdf-syntax-ns#\">\n   <cc:Work>\n    <dc:type rdf:resource=\"http://purl.org/dc/dcmitype/StillImage\"/>\n    <dc:date>2021-04-28T13:10:32.417488</dc:date>\n    <dc:format>image/svg+xml</dc:format>\n    <dc:creator>\n     <cc:Agent>\n      <dc:title>Matplotlib v3.3.0, https://matplotlib.org/</dc:title>\n     </cc:Agent>\n    </dc:creator>\n   </cc:Work>\n  </rdf:RDF>\n </metadata>\n <defs>\n  <style type=\"text/css\">*{stroke-linecap:butt;stroke-linejoin:round;}</style>\n </defs>\n <g id=\"figure_1\">\n  <g id=\"patch_1\">\n   <path d=\"M 0 248.919844 \nL 251.565 248.919844 \nL 251.565 0 \nL 0 0 \nz\n\" style=\"fill:none;\"/>\n  </g>\n  <g id=\"axes_1\">\n   <g id=\"patch_2\">\n    <path d=\"M 26.925 225.041719 \nL 244.365 225.041719 \nL 244.365 7.601719 \nL 26.925 7.601719 \nz\n\" style=\"fill:#ffffff;\"/>\n   </g>\n   <g clip-path=\"url(#p4edb1f30a8)\">\n    <image height=\"218\" id=\"image35ba4b57dc\" transform=\"scale(1 -1)translate(0 -218)\" width=\"218\" x=\"26.925\" xlink:href=\"data:image/png;base64,\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\" y=\"-7.041719\"/>\n   </g>\n   <g id=\"matplotlib.axis_1\">\n    <g id=\"xtick_1\">\n     <g id=\"line2d_1\">\n      <defs>\n       <path d=\"M 0 0 \nL 0 3.5 \n\" id=\"m48dbc03dbc\" style=\"stroke:#000000;stroke-width:0.8;\"/>\n      </defs>\n      <g>\n       <use style=\"stroke:#000000;stroke-width:0.8;\" x=\"30.3225\" xlink:href=\"#m48dbc03dbc\" y=\"225.041719\"/>\n      </g>\n     </g>\n     <g id=\"text_1\">\n      <!-- 0 -->\n      <g transform=\"translate(27.14125 239.640156)scale(0.1 -0.1)\">\n       <defs>\n        <path d=\"M 31.78125 66.40625 \nQ 24.171875 66.40625 20.328125 58.90625 \nQ 16.5 51.421875 16.5 36.375 \nQ 16.5 21.390625 20.328125 13.890625 \nQ 24.171875 6.390625 31.78125 6.390625 \nQ 39.453125 6.390625 43.28125 13.890625 \nQ 47.125 21.390625 47.125 36.375 \nQ 47.125 51.421875 43.28125 58.90625 \nQ 39.453125 66.40625 31.78125 66.40625 \nz\nM 31.78125 74.21875 \nQ 44.046875 74.21875 50.515625 64.515625 \nQ 56.984375 54.828125 56.984375 36.375 \nQ 56.984375 17.96875 50.515625 8.265625 \nQ 44.046875 -1.421875 31.78125 -1.421875 \nQ 19.53125 -1.421875 13.0625 8.265625 \nQ 6.59375 17.96875 6.59375 36.375 \nQ 6.59375 54.828125 13.0625 64.515625 \nQ 19.53125 74.21875 31.78125 74.21875 \nz\n\" id=\"DejaVuSans-48\"/>\n       </defs>\n       <use xlink:href=\"#DejaVuSans-48\"/>\n      </g>\n     </g>\n    </g>\n    <g id=\"xtick_2\">\n     <g id=\"line2d_2\">\n      <g>\n       <use style=\"stroke:#000000;stroke-width:0.8;\" x=\"64.2975\" xlink:href=\"#m48dbc03dbc\" y=\"225.041719\"/>\n      </g>\n     </g>\n     <g id=\"text_2\">\n      <!-- 5 -->\n      <g transform=\"translate(61.11625 239.640156)scale(0.1 -0.1)\">\n       <defs>\n        <path d=\"M 10.796875 72.90625 \nL 49.515625 72.90625 \nL 49.515625 64.59375 \nL 19.828125 64.59375 \nL 19.828125 46.734375 \nQ 21.96875 47.46875 24.109375 47.828125 \nQ 26.265625 48.1875 28.421875 48.1875 \nQ 40.625 48.1875 47.75 41.5 \nQ 54.890625 34.8125 54.890625 23.390625 \nQ 54.890625 11.625 47.5625 5.09375 \nQ 40.234375 -1.421875 26.90625 -1.421875 \nQ 22.3125 -1.421875 17.546875 -0.640625 \nQ 12.796875 0.140625 7.71875 1.703125 \nL 7.71875 11.625 \nQ 12.109375 9.234375 16.796875 8.0625 \nQ 21.484375 6.890625 26.703125 6.890625 \nQ 35.15625 6.890625 40.078125 11.328125 \nQ 45.015625 15.765625 45.015625 23.390625 \nQ 45.015625 31 40.078125 35.4375 \nQ 35.15625 39.890625 26.703125 39.890625 \nQ 22.75 39.890625 18.8125 39.015625 \nQ 14.890625 38.140625 10.796875 36.28125 \nz\n\" id=\"DejaVuSans-53\"/>\n       </defs>\n       <use xlink:href=\"#DejaVuSans-53\"/>\n      </g>\n     </g>\n    </g>\n    <g id=\"xtick_3\">\n     <g id=\"line2d_3\">\n      <g>\n       <use style=\"stroke:#000000;stroke-width:0.8;\" x=\"98.2725\" xlink:href=\"#m48dbc03dbc\" y=\"225.041719\"/>\n      </g>\n     </g>\n     <g id=\"text_3\">\n      <!-- 10 -->\n      <g transform=\"translate(91.91 239.640156)scale(0.1 -0.1)\">\n       <defs>\n        <path d=\"M 12.40625 8.296875 \nL 28.515625 8.296875 \nL 28.515625 63.921875 \nL 10.984375 60.40625 \nL 10.984375 69.390625 \nL 28.421875 72.90625 \nL 38.28125 72.90625 \nL 38.28125 8.296875 \nL 54.390625 8.296875 \nL 54.390625 0 \nL 12.40625 0 \nz\n\" id=\"DejaVuSans-49\"/>\n       </defs>\n       <use xlink:href=\"#DejaVuSans-49\"/>\n       <use x=\"63.623047\" xlink:href=\"#DejaVuSans-48\"/>\n      </g>\n     </g>\n    </g>\n    <g id=\"xtick_4\">\n     <g id=\"line2d_4\">\n      <g>\n       <use style=\"stroke:#000000;stroke-width:0.8;\" x=\"132.2475\" xlink:href=\"#m48dbc03dbc\" y=\"225.041719\"/>\n      </g>\n     </g>\n     <g id=\"text_4\">\n      <!-- 15 -->\n      <g transform=\"translate(125.885 239.640156)scale(0.1 -0.1)\">\n       <use xlink:href=\"#DejaVuSans-49\"/>\n       <use x=\"63.623047\" xlink:href=\"#DejaVuSans-53\"/>\n      </g>\n     </g>\n    </g>\n    <g id=\"xtick_5\">\n     <g id=\"line2d_5\">\n      <g>\n       <use style=\"stroke:#000000;stroke-width:0.8;\" x=\"166.2225\" xlink:href=\"#m48dbc03dbc\" y=\"225.041719\"/>\n      </g>\n     </g>\n     <g id=\"text_5\">\n      <!-- 20 -->\n      <g transform=\"translate(159.86 239.640156)scale(0.1 -0.1)\">\n       <defs>\n        <path d=\"M 19.1875 8.296875 \nL 53.609375 8.296875 \nL 53.609375 0 \nL 7.328125 0 \nL 7.328125 8.296875 \nQ 12.9375 14.109375 22.625 23.890625 \nQ 32.328125 33.6875 34.8125 36.53125 \nQ 39.546875 41.84375 41.421875 45.53125 \nQ 43.3125 49.21875 43.3125 52.78125 \nQ 43.3125 58.59375 39.234375 62.25 \nQ 35.15625 65.921875 28.609375 65.921875 \nQ 23.96875 65.921875 18.8125 64.3125 \nQ 13.671875 62.703125 7.8125 59.421875 \nL 7.8125 69.390625 \nQ 13.765625 71.78125 18.9375 73 \nQ 24.125 74.21875 28.421875 74.21875 \nQ 39.75 74.21875 46.484375 68.546875 \nQ 53.21875 62.890625 53.21875 53.421875 \nQ 53.21875 48.921875 51.53125 44.890625 \nQ 49.859375 40.875 45.40625 35.40625 \nQ 44.1875 33.984375 37.640625 27.21875 \nQ 31.109375 20.453125 19.1875 8.296875 \nz\n\" id=\"DejaVuSans-50\"/>\n       </defs>\n       <use xlink:href=\"#DejaVuSans-50\"/>\n       <use x=\"63.623047\" xlink:href=\"#DejaVuSans-48\"/>\n      </g>\n     </g>\n    </g>\n    <g id=\"xtick_6\">\n     <g id=\"line2d_6\">\n      <g>\n       <use style=\"stroke:#000000;stroke-width:0.8;\" x=\"200.1975\" xlink:href=\"#m48dbc03dbc\" y=\"225.041719\"/>\n      </g>\n     </g>\n     <g id=\"text_6\">\n      <!-- 25 -->\n      <g transform=\"translate(193.835 239.640156)scale(0.1 -0.1)\">\n       <use xlink:href=\"#DejaVuSans-50\"/>\n       <use x=\"63.623047\" xlink:href=\"#DejaVuSans-53\"/>\n      </g>\n     </g>\n    </g>\n    <g id=\"xtick_7\">\n     <g id=\"line2d_7\">\n      <g>\n       <use style=\"stroke:#000000;stroke-width:0.8;\" x=\"234.1725\" xlink:href=\"#m48dbc03dbc\" y=\"225.041719\"/>\n      </g>\n     </g>\n     <g id=\"text_7\">\n      <!-- 30 -->\n      <g transform=\"translate(227.81 239.640156)scale(0.1 -0.1)\">\n       <defs>\n        <path d=\"M 40.578125 39.3125 \nQ 47.65625 37.796875 51.625 33 \nQ 55.609375 28.21875 55.609375 21.1875 \nQ 55.609375 10.40625 48.1875 4.484375 \nQ 40.765625 -1.421875 27.09375 -1.421875 \nQ 22.515625 -1.421875 17.65625 -0.515625 \nQ 12.796875 0.390625 7.625 2.203125 \nL 7.625 11.71875 \nQ 11.71875 9.328125 16.59375 8.109375 \nQ 21.484375 6.890625 26.8125 6.890625 \nQ 36.078125 6.890625 40.9375 10.546875 \nQ 45.796875 14.203125 45.796875 21.1875 \nQ 45.796875 27.640625 41.28125 31.265625 \nQ 36.765625 34.90625 28.71875 34.90625 \nL 20.21875 34.90625 \nL 20.21875 43.015625 \nL 29.109375 43.015625 \nQ 36.375 43.015625 40.234375 45.921875 \nQ 44.09375 48.828125 44.09375 54.296875 \nQ 44.09375 59.90625 40.109375 62.90625 \nQ 36.140625 65.921875 28.71875 65.921875 \nQ 24.65625 65.921875 20.015625 65.03125 \nQ 15.375 64.15625 9.8125 62.3125 \nL 9.8125 71.09375 \nQ 15.4375 72.65625 20.34375 73.4375 \nQ 25.25 74.21875 29.59375 74.21875 \nQ 40.828125 74.21875 47.359375 69.109375 \nQ 53.90625 64.015625 53.90625 55.328125 \nQ 53.90625 49.265625 50.4375 45.09375 \nQ 46.96875 40.921875 40.578125 39.3125 \nz\n\" id=\"DejaVuSans-51\"/>\n       </defs>\n       <use xlink:href=\"#DejaVuSans-51\"/>\n       <use x=\"63.623047\" xlink:href=\"#DejaVuSans-48\"/>\n      </g>\n     </g>\n    </g>\n   </g>\n   <g id=\"matplotlib.axis_2\">\n    <g id=\"ytick_1\">\n     <g id=\"line2d_8\">\n      <defs>\n       <path d=\"M 0 0 \nL -3.5 0 \n\" id=\"m8194d69d01\" style=\"stroke:#000000;stroke-width:0.8;\"/>\n      </defs>\n      <g>\n       <use style=\"stroke:#000000;stroke-width:0.8;\" x=\"26.925\" xlink:href=\"#m8194d69d01\" y=\"10.999219\"/>\n      </g>\n     </g>\n     <g id=\"text_8\">\n      <!-- 0 -->\n      <g transform=\"translate(13.5625 14.798437)scale(0.1 -0.1)\">\n       <use xlink:href=\"#DejaVuSans-48\"/>\n      </g>\n     </g>\n    </g>\n    <g id=\"ytick_2\">\n     <g id=\"line2d_9\">\n      <g>\n       <use style=\"stroke:#000000;stroke-width:0.8;\" x=\"26.925\" xlink:href=\"#m8194d69d01\" y=\"44.974219\"/>\n      </g>\n     </g>\n     <g id=\"text_9\">\n      <!-- 5 -->\n      <g transform=\"translate(13.5625 48.773437)scale(0.1 -0.1)\">\n       <use xlink:href=\"#DejaVuSans-53\"/>\n      </g>\n     </g>\n    </g>\n    <g id=\"ytick_3\">\n     <g id=\"line2d_10\">\n      <g>\n       <use style=\"stroke:#000000;stroke-width:0.8;\" x=\"26.925\" xlink:href=\"#m8194d69d01\" y=\"78.949219\"/>\n      </g>\n     </g>\n     <g id=\"text_10\">\n      <!-- 10 -->\n      <g transform=\"translate(7.2 82.748437)scale(0.1 -0.1)\">\n       <use xlink:href=\"#DejaVuSans-49\"/>\n       <use x=\"63.623047\" xlink:href=\"#DejaVuSans-48\"/>\n      </g>\n     </g>\n    </g>\n    <g id=\"ytick_4\">\n     <g id=\"line2d_11\">\n      <g>\n       <use style=\"stroke:#000000;stroke-width:0.8;\" x=\"26.925\" xlink:href=\"#m8194d69d01\" y=\"112.924219\"/>\n      </g>\n     </g>\n     <g id=\"text_11\">\n      <!-- 15 -->\n      <g transform=\"translate(7.2 116.723437)scale(0.1 -0.1)\">\n       <use xlink:href=\"#DejaVuSans-49\"/>\n       <use x=\"63.623047\" xlink:href=\"#DejaVuSans-53\"/>\n      </g>\n     </g>\n    </g>\n    <g id=\"ytick_5\">\n     <g id=\"line2d_12\">\n      <g>\n       <use style=\"stroke:#000000;stroke-width:0.8;\" x=\"26.925\" xlink:href=\"#m8194d69d01\" y=\"146.899219\"/>\n      </g>\n     </g>\n     <g id=\"text_12\">\n      <!-- 20 -->\n      <g transform=\"translate(7.2 150.698437)scale(0.1 -0.1)\">\n       <use xlink:href=\"#DejaVuSans-50\"/>\n       <use x=\"63.623047\" xlink:href=\"#DejaVuSans-48\"/>\n      </g>\n     </g>\n    </g>\n    <g id=\"ytick_6\">\n     <g id=\"line2d_13\">\n      <g>\n       <use style=\"stroke:#000000;stroke-width:0.8;\" x=\"26.925\" xlink:href=\"#m8194d69d01\" y=\"180.874219\"/>\n      </g>\n     </g>\n     <g id=\"text_13\">\n      <!-- 25 -->\n      <g transform=\"translate(7.2 184.673437)scale(0.1 -0.1)\">\n       <use xlink:href=\"#DejaVuSans-50\"/>\n       <use x=\"63.623047\" xlink:href=\"#DejaVuSans-53\"/>\n      </g>\n     </g>\n    </g>\n    <g id=\"ytick_7\">\n     <g id=\"line2d_14\">\n      <g>\n       <use style=\"stroke:#000000;stroke-width:0.8;\" x=\"26.925\" xlink:href=\"#m8194d69d01\" y=\"214.849219\"/>\n      </g>\n     </g>\n     <g id=\"text_14\">\n      <!-- 30 -->\n      <g transform=\"translate(7.2 218.648437)scale(0.1 -0.1)\">\n       <use xlink:href=\"#DejaVuSans-51\"/>\n       <use x=\"63.623047\" xlink:href=\"#DejaVuSans-48\"/>\n      </g>\n     </g>\n    </g>\n   </g>\n   <g id=\"patch_3\">\n    <path d=\"M 26.925 225.041719 \nL 26.925 7.601719 \n\" style=\"fill:none;stroke:#000000;stroke-linecap:square;stroke-linejoin:miter;stroke-width:0.8;\"/>\n   </g>\n   <g id=\"patch_4\">\n    <path d=\"M 244.365 225.041719 \nL 244.365 7.601719 \n\" style=\"fill:none;stroke:#000000;stroke-linecap:square;stroke-linejoin:miter;stroke-width:0.8;\"/>\n   </g>\n   <g id=\"patch_5\">\n    <path d=\"M 26.925 225.041719 \nL 244.365 225.041719 \n\" style=\"fill:none;stroke:#000000;stroke-linecap:square;stroke-linejoin:miter;stroke-width:0.8;\"/>\n   </g>\n   <g id=\"patch_6\">\n    <path d=\"M 26.925 7.601719 \nL 244.365 7.601719 \n\" style=\"fill:none;stroke:#000000;stroke-linecap:square;stroke-linejoin:miter;stroke-width:0.8;\"/>\n   </g>\n  </g>\n </g>\n <defs>\n  <clipPath id=\"p4edb1f30a8\">\n   <rect height=\"217.44\" width=\"217.44\" x=\"26.925\" y=\"7.601719\"/>\n  </clipPath>\n </defs>\n</svg>\n",
            "image/png": "[encoded data removed]"
          },
          "metadata": {
            "needs_background": "light"
          }
        }
      ]
    },
    {
      "cell_type": "code",
      "execution_count": 12,
      "metadata": {},
      "outputs": [],
      "source": [
        "folderName = \"weightOutputForECE554\"\n",
        "\n",
        "if not os.path.exists(folderName):\n",
        "    os.makedirs(folderName)"
      ]
    },
    {
      "source": [
        "## Conv1 Weights"
      ],
      "cell_type": "markdown",
      "metadata": {
        "id": "0iOMrxZbg6Np",
        "colab_type": "text"
      }
    },
    {
      "cell_type": "code",
      "execution_count": 13,
      "metadata": {},
      "outputs": [],
      "source": [
        "testTensor = model.conv1.weight().int_repr()\n",
        "testTensor = testTensor.type(torch.ByteTensor) # 8-bit integer (unsigned)\n",
        "\n",
        "\n",
        "with open(f\"{folderName}/cov1_weights.txt\", \"w\") as f:\n",
        "    f.write(str(testTensor.numpy().tolist()))"
      ]
    },
    {
      "cell_type": "markdown",
      "metadata": {
        "id": "zBPQO5_2pCyk",
        "colab_type": "text"
      },
      "source": [
        "## Conv2 Weights"
      ]
    },
    {
      "cell_type": "code",
      "metadata": {
        "id": "Cftbylhoo8ht",
        "colab_type": "code",
        "outputId": "6da13bae-549a-456a-a57d-abf1cb4cee7f",
        "colab": {
          "base_uri": "https://localhost:8080/",
          "height": 1000
        },
        "tags": []
      },
      "source": [
        "testTensor = model.conv2.weight().int_repr()\n",
        "testTensor = testTensor.type(torch.ByteTensor) # 8-bit integer (unsigned)\n",
        "\n",
        "\n",
        "with open(f\"{folderName}/cov2_weights.txt\", \"w\") as f:\n",
        "    f.write(str(testTensor.numpy().tolist()))"
      ],
      "execution_count": 14,
      "outputs": []
    },
    {
      "cell_type": "markdown",
      "metadata": {
        "id": "xw3s1zpPpVP6",
        "colab_type": "text"
      },
      "source": [
        "## Conv3 Weights"
      ]
    },
    {
      "cell_type": "code",
      "metadata": {
        "id": "jGAT5asdhoOt",
        "colab_type": "code",
        "outputId": "532cec1c-a410-4402-dea6-4321e460d59d",
        "colab": {
          "base_uri": "https://localhost:8080/",
          "height": 1000
        },
        "tags": []
      },
      "source": [
        "testTensor = model.conv3.weight().int_repr()\n",
        "testTensor = testTensor.type(torch.ByteTensor) # 8-bit integer (unsigned)\n",
        "\n",
        "with open(f\"{folderName}/cov3_weights.txt\", \"w\") as f:\n",
        "    f.write(str(testTensor.numpy().tolist()))"
      ],
      "execution_count": 15,
      "outputs": []
    },
    {
      "cell_type": "markdown",
      "metadata": {
        "id": "8vmWRiFIsG3B",
        "colab_type": "text"
      },
      "source": [
        "## FC1 Weights"
      ]
    },
    {
      "cell_type": "code",
      "metadata": {
        "id": "bt5W0eDUxNAB",
        "colab_type": "code",
        "outputId": "cb0e07f7-6502-4381-f1fe-3059df21eef6",
        "colab": {
          "base_uri": "https://localhost:8080/",
          "height": 24701
        },
        "tags": []
      },
      "source": [
        "testTensor = model.fc1.weight().int_repr()\n",
        "testTensor = testTensor.type(torch.ByteTensor) # 8-bit integer (unsigned)\n",
        "\n",
        "with open(f\"{folderName}/fc1_weights.txt\", \"w\") as f:\n",
        "    f.write(str(testTensor.numpy().tolist()))"
      ],
      "execution_count": 16,
      "outputs": []
    },
    {
      "cell_type": "code",
      "execution_count": 17,
      "metadata": {},
      "outputs": [
        {
          "output_type": "execute_result",
          "data": {
            "text/plain": [
              "torch.Size([120, 16, 5, 5])"
            ]
          },
          "metadata": {},
          "execution_count": 17
        }
      ],
      "source": [
        "testTensor = model.conv3.weight().int_repr()\n",
        "\n",
        "testTensor.size()"
      ]
    },
    {
      "cell_type": "markdown",
      "metadata": {
        "id": "JPMXG4y9sMr5",
        "colab_type": "text"
      },
      "source": [
        "## FC2 Weights"
      ]
    },
    {
      "cell_type": "code",
      "metadata": {
        "id": "MvnrgUxYxN8f",
        "colab_type": "code",
        "outputId": "d2b4e6a9-8687-416a-9be0-e4492f0109e5",
        "colab": {
          "base_uri": "https://localhost:8080/",
          "height": 2159
        }
      },
      "source": [
        "testTensor = model.fc2.weight().int_repr()\n",
        "testTensor = testTensor.type(torch.ByteTensor) # 8-bit integer (unsigned)\n",
        "\n",
        "with open(f\"{folderName}/fc2_weights.txt\", \"w\") as f:\n",
        "    f.write(str(testTensor.numpy().tolist()))"
      ],
      "execution_count": 18,
      "outputs": []
    },
    {
      "source": [
        "## Combine All Weights into one txt file"
      ],
      "cell_type": "markdown",
      "metadata": {}
    },
    {
      "cell_type": "code",
      "execution_count": 19,
      "metadata": {},
      "outputs": [],
      "source": [
        "data0 = data1 = data2 = data3 = data4  = \"\"\n",
        "\n",
        "with open(f\"{folderName}/cov1_weights.txt\") as fp:\n",
        "    data0 = fp.read()\n",
        "\n",
        "with open(f\"{folderName}/cov2_weights.txt\") as fp:\n",
        "    data1 = fp.read()\n",
        "    data0 += data1\n",
        "\n",
        "with open(f\"{folderName}/cov3_weights.txt\") as fp:\n",
        "    data2 = fp.read()\n",
        "    data0 += data2\n",
        "\n",
        "with open(f\"{folderName}/fc1_weights.txt\") as fp:\n",
        "    data3 = fp.read()\n",
        "    data0 += data3\n",
        "\n",
        "with open(f\"{folderName}/fc2_weights.txt\") as fp:\n",
        "    data4 = fp.read()\n",
        "    data0 += data4\n",
        "\n",
        "with open (f\"{folderName}/combined_weights.txt\", 'w') as fp:\n",
        "    fp.write(data0)\n"
      ]
    },
    {
      "source": [
        "## Strip all characters out of combined_weights.txt for an easier time parsing and loading into FPGA"
      ],
      "cell_type": "markdown",
      "metadata": {}
    },
    {
      "cell_type": "code",
      "execution_count": 20,
      "metadata": {},
      "outputs": [],
      "source": [
        "with open(f\"{folderName}/combined_weights.txt\", 'r') as fp_weight:\n",
        "    combinedWeightData = fp_weight.read()\n",
        "fp_weight.close()\n",
        "\n",
        "temp = combinedWeightData.replace(\"[\",\"\")\n",
        "temp = temp.replace(\"]\",\"\")\n",
        "temp = temp.replace(\",\",\"\")\n",
        "combinedWeightData = temp\n",
        "\n",
        "with open(f\"{folderName}/cleanedWeights.txt\", 'w') as fp:\n",
        "    fp.write(combinedWeightData)\n",
        "fp.close()"
      ]
    },
    {
      "cell_type": "code",
      "execution_count": null,
      "metadata": {},
      "outputs": [],
      "source": []
    }
  ]
}